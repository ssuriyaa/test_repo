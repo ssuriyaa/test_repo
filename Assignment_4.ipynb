{
    "cells": [
        {
            "cell_type": "markdown",
            "metadata": {
                "collapsed": true
            },
            "source": "# My Jupyter Notebook on IBM Watson Studio"
        },
        {
            "cell_type": "markdown",
            "metadata": {},
            "source": "## Markdown subtitle 1"
        },
        {
            "cell_type": "markdown",
            "metadata": {},
            "source": "**Hasitha Suriya Arachchige**\nData Scientist"
        },
        {
            "cell_type": "markdown",
            "metadata": {},
            "source": "*I am interested in data science because I am interested in the data driven decision making mehcanism. And also because I personally believe using machine learining and artificial inteligence to our benifit is the futuristic path to solve any problem*"
        },
        {
            "cell_type": "markdown",
            "metadata": {},
            "source": "### The code below (cell 5) demonstrates how mathematical precedence work between addition and multiplication"
        },
        {
            "cell_type": "code",
            "execution_count": 1,
            "metadata": {},
            "outputs": [
                {
                    "data": {
                        "text/plain": "13"
                    },
                    "execution_count": 1,
                    "metadata": {},
                    "output_type": "execute_result"
                }
            ],
            "source": "5*2+3"
        },
        {
            "cell_type": "markdown",
            "metadata": {},
            "source": "1. This is the first item in the list\n2. The second task is to make hyperlinks. Here is a link to [Wikipedia](https://en.wikipedia.org/wiki/Wikipedia).\n3. Inserting a horizontal bar\n***\n4.  ~~Next item in the list~~"
        },
        {
            "cell_type": "code",
            "execution_count": null,
            "metadata": {},
            "outputs": [],
            "source": ""
        }
    ],
    "metadata": {
        "kernelspec": {
            "display_name": "Python 3.6",
            "language": "python",
            "name": "python3"
        },
        "language_info": {
            "codemirror_mode": {
                "name": "ipython",
                "version": 3
            },
            "file_extension": ".py",
            "mimetype": "text/x-python",
            "name": "python",
            "nbconvert_exporter": "python",
            "pygments_lexer": "ipython3",
            "version": "3.6.9"
        }
    },
    "nbformat": 4,
    "nbformat_minor": 1
}